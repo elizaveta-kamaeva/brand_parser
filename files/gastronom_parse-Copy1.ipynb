{
 "cells": [
  {
   "cell_type": "code",
   "execution_count": null,
   "metadata": {},
   "outputs": [],
   "source": [
    "import requests\n",
    "from bs4 import BeautifulSoup\n",
    "import time\n",
    "\n",
    "resp = requests.get('https://simplewine.ru/catalog/product/casa_defra_prosecco_spumante_brut_075_6/')\n",
    "soup = BeautifulSoup(resp.text, 'html.parser')\n",
    "title = soup.find(\"h1\", class_= \"title\")\n",
    "code = soup.find(\"div\", class_= \"code\")\n",
    "\n"
   ]
  },
  {
   "cell_type": "code",
   "execution_count": null,
   "metadata": {},
   "outputs": [],
   "source": [
    "print(title.text.strip() + '\\n' + code.text.strip().split(',')[1])"
   ]
  },
  {
   "cell_type": "code",
   "execution_count": null,
   "metadata": {},
   "outputs": [],
   "source": [
    "for url in urls:\n",
    "    print('https://simplewine.ru' + url['href'])"
   ]
  },
  {
   "cell_type": "code",
   "execution_count": null,
   "metadata": {},
   "outputs": [],
   "source": [
    "recipes_urls = []\n",
    "for n in range(1,19):\n",
    "    print(n)\n",
    "    resp = requests.get('https://www.utkonos.ru/recipes/category?page={}'.format(n))\n",
    "    soup = BeautifulSoup(resp.text, 'html.parser')\n",
    "    rec = soup(\"a\", class_= \"title\")\n",
    "    for d in rec:\n",
    "        recipes_urls.append('https://www.utkonos.ru'+d['href'])\n",
    "    time.sleep(2)\n",
    "    \n",
    "#https://www.utkonos.ru/recipes/category?page=2"
   ]
  },
  {
   "cell_type": "code",
   "execution_count": null,
   "metadata": {},
   "outputs": [],
   "source": [
    "#сслыки на разделы с рецептами\n",
    "import requests\n",
    "from bs4 import BeautifulSoup\n",
    "import time\n",
    "\n",
    "resp = requests.get('https://www.gastronom.ru/recipe/')\n",
    "soup = BeautifulSoup(resp.text, 'html.parser')\n",
    "\n",
    "cat_urls = []\n",
    "recs = soup.select(\"div.popular > a[href^='/recipe']\")\n",
    "\n",
    "for d in recs:\n",
    "    cat_urls.append('https://www.gastronom.ru'+d['href'])\n",
    "cat_urls"
   ]
  },
  {
   "cell_type": "code",
   "execution_count": null,
   "metadata": {},
   "outputs": [],
   "source": [
    "def lastpage(url):\n",
    "    url = url + '?&page=999'\n",
    "    resp = requests.get(url)\n",
    "    soup = BeautifulSoup(resp.text, 'html.parser')\n",
    "    if soup.select(\"div.pagination > a:nth-of-type(7)\"):\n",
    "        return soup.select(\"div.pagination > a:nth-of-type(7)\")[0].text\n",
    "    else:\n",
    "        return '1'\n",
    "\n",
    "for cat in cat_urls:\n",
    "    print(cat.split('/')[6] + ' ' + lastpage(cat) + ' страниц')"
   ]
  },
  {
   "cell_type": "code",
   "execution_count": null,
   "metadata": {},
   "outputs": [],
   "source": [
    "#забыл про переход по страницам\n",
    "import re\n",
    "\n",
    "def lastpage(url):\n",
    "    url = url + '?&page=999'\n",
    "    resp = requests.get(url)\n",
    "    soup = BeautifulSoup(resp.text, 'html.parser')\n",
    "    if soup.select(\"div.pagination > a:nth-of-type(7)\"):\n",
    "        return soup.select(\"div.pagination > a:nth-of-type(7)\")[0].text\n",
    "    else:\n",
    "        return '1'\n",
    "    \n",
    "with open('recipes_gastronom.csv', 'w') as f:\n",
    "    f.write('name|ingredients|text\\n')\n",
    "    \n",
    "k = 1 #категория \n",
    "url = ''\n",
    "rec_urls = []\n",
    "count = 0\n",
    "for cat_url in cat_urls:\n",
    "    for x in range(1,int(lastpage(cat_url))):\n",
    "        resp = requests.get(cat_url + '?&page={}'.format(x)) # x - номер страницы в категории\n",
    "        soup = BeautifulSoup(resp.text, 'html.parser')\n",
    "        rec = soup.select(\"div.row.feed h3 > a\")\n",
    "        n = 1 #номер рецепта на странице\n",
    "        \n",
    "        for el in rec:\n",
    "            rec_text = ''\n",
    "            url = 'https://www.gastronom.ru'+el['href']\n",
    "            rec_urls.append(url)\n",
    "            if  rec_urls.count(url) > 1:\n",
    "                print (url, rec_urls.count(url))\n",
    "                continue\n",
    "            resp = requests.get(url)\n",
    "            print (k, x, n, url)\n",
    "            soup = BeautifulSoup(resp.text, 'html.parser')\n",
    "            title = soup.find(\"h1\").text\n",
    "            steps = soup.select(\"div.step.instruction p\")\n",
    "            for step in steps:\n",
    "                rec_text += step.text.replace('\\r\\n', '').replace('\\xa0', ' ')\n",
    "            rec_text = re.sub(r\"\\s+\", u\" \", rec_text).strip()\n",
    "            ingredients_collection = soup.select(\"li.ingredient\")\n",
    "            ingredients = [i.text.replace('\\xa0', ' ') for i in ingredients_collection]\n",
    "            with open('recipes_gastronom.csv', 'a') as f:\n",
    "                f.write('{}|{}|{}\\n'.format(title, ','.join(ingredients), rec_text))\n",
    "            n += 1\n",
    "            count += 1\n",
    "            time.sleep(2)\n",
    "    k += 1\n",
    "print ('Всего ссылок: ', len(rec_urls), ' Уникальных: ', count)"
   ]
  },
  {
   "cell_type": "code",
   "execution_count": null,
   "metadata": {},
   "outputs": [],
   "source": [
    "recipes_urls = []\n",
    "resp = requests.get('https://www.gastronom.ru/recipe/group/3225/recepty-salatov')\n",
    "soup = BeautifulSoup(resp.text, 'html.parser')\n",
    "recs = soup.select(\"div.row.feed h3 > a\")\n",
    "\n",
    "for d in recs:\n",
    "    recipes_urls.append('https://www.gastronom.ru'+d['href'])\n",
    "recipes_urls"
   ]
  },
  {
   "cell_type": "code",
   "execution_count": null,
   "metadata": {},
   "outputs": [],
   "source": [
    "import re\n",
    "rec_text = ''\n",
    "resp = requests.get('https://www.gastronom.ru/recipe/39093/kvashenaya-kapusta-bystrogo-prigotovleniya')\n",
    "soup = BeautifulSoup(resp.text, 'html.parser')\n",
    "title = soup.find(\"h1\").text\n",
    "steps = soup.select(\"div.step.instruction p\")\n",
    "for step in steps:\n",
    "    rec_text += step.text.replace('\\r\\n', '').replace('\\xa0', ' ')\n",
    "rec_text = re.sub(r\"\\s+\", u\" \", rec_text).strip()\n",
    "ingredients_collection = soup.select(\"li.ingredient\")\n",
    "ingredients = [i.text.replace('\\xa0', ' ') for i in ingredients_collection]\n"
   ]
  },
  {
   "cell_type": "code",
   "execution_count": null,
   "metadata": {
    "scrolled": true
   },
   "outputs": [],
   "source": [
    "import re\n",
    "\n",
    "with open('recipes_gastronom.csv', 'w') as f:\n",
    "    f.write('name|ingredients|text\\n')\n",
    "\n",
    "n = 0\n",
    "\n",
    "for n, url in enumerate(recipes_urls, 1):\n",
    "    if n == 3:\n",
    "        break\n",
    "    rectext = ''\n",
    "    ingredients = []\n",
    "    print(n, url)\n",
    "    resp_recipe = requests.get(url)\n",
    "    recipe = BeautifulSoup(resp_recipe.text, 'html.parser')\n",
    "    recsteps = recipe.select(\"div.step.instruction p\")\n",
    "    if len(recsteps) == 0:\n",
    "        print ('0')\n",
    "        continue\n",
    "    name = recipe.find(\"h1\").text\n",
    "    ingredients_collection = recipe.select(\"li.ingredient\")\n",
    "    ingredients = [i.text.replace('\\xa0', ' ') for i in ingredients_collection]\n",
    "    for step in recsteps:\n",
    "        rectext += step.text.replace('\\r\\n', '').replace('\\xa0', ' ')\n",
    "    rectext = re.sub(r\"\\s+\", u\" \", rectext).strip()\n",
    "    with open('recipes_gastronom.csv', 'a') as f:\n",
    "        f.write('{}|{}|{}\\n'.format(name, ','.join(ingredients), rectext))\n",
    "    n += 1\n",
    "    time.sleep(2)\n",
    "                "
   ]
  },
  {
   "cell_type": "code",
   "execution_count": null,
   "metadata": {},
   "outputs": [],
   "source": [
    "recp_recipe = requests.get('https://www.utkonos.ru/recipe/1072')\n",
    "recipe = BeautifulSoup(recp_recipe.text, 'html.parser')"
   ]
  },
  {
   "cell_type": "code",
   "execution_count": null,
   "metadata": {},
   "outputs": [],
   "source": [
    "name = recipe.find(\"h1\")\n",
    "name.text"
   ]
  },
  {
   "cell_type": "code",
   "execution_count": null,
   "metadata": {},
   "outputs": [],
   "source": [
    "rectext = ''\n",
    "recsteps = recipe(\"div\", class_= \"cooking_step_desc\")\n",
    "for step in recsteps:\n",
    "        rectext += step.text\n",
    "rectext"
   ]
  },
  {
   "cell_type": "code",
   "execution_count": null,
   "metadata": {},
   "outputs": [],
   "source": [
    "ingredients_collection = reciepe.select(\"dd\")\n",
    "del ingredients_collection[len(ingredients_collection) - 1]\n",
    "ingredients = [i.text.split('—')[0].strip() for i in ingredients_collection]\n",
    "ingredients"
   ]
  }
 ],
 "metadata": {
  "kernelspec": {
   "display_name": "py3.6",
   "language": "python",
   "name": "py3.6"
  },
  "language_info": {
   "codemirror_mode": {
    "name": "ipython",
    "version": 3
   },
   "file_extension": ".py",
   "mimetype": "text/x-python",
   "name": "python",
   "nbconvert_exporter": "python",
   "pygments_lexer": "ipython3",
   "version": "3.6.5"
  }
 },
 "nbformat": 4,
 "nbformat_minor": 2
}
